{
 "cells": [
  {
   "cell_type": "markdown",
   "metadata": {},
   "source": [
    "# Multiclass Classification of predicting Cirrhosis"
   ]
  },
  {
   "cell_type": "markdown",
   "metadata": {},
   "source": [
    "# Importing Libraries"
   ]
  },
  {
   "cell_type": "code",
   "execution_count": 2,
   "metadata": {
    "id": "IRTztAxK2FtO"
   },
   "outputs": [],
   "source": [
    "import pandas as pd\n",
    "import seaborn as sns\n",
    "import numpy as np\n",
    "import matplotlib.pyplot as plt\n",
    "from scipy.stats import chi2_contingency\n",
    "from sklearn.experimental import enable_iterative_imputer\n",
    "from sklearn.impute import IterativeImputer\n",
    "from scipy.stats import mstats\n",
    "from sklearn.preprocessing import LabelEncoder\n",
    "from sklearn.model_selection import train_test_split\n",
    "from sklearn.preprocessing import StandardScaler\n",
    "from sklearn.linear_model import LogisticRegression\n",
    "from sklearn.metrics import accuracy_score, log_loss,confusion_matrix, classification_report\n",
    "import warnings\n",
    "warnings.filterwarnings(\"ignore\")"
   ]
  },
  {
   "cell_type": "markdown",
   "metadata": {},
   "source": [
    "# Load Dataset"
   ]
  },
  {
   "cell_type": "code",
   "execution_count": 4,
   "metadata": {
    "id": "ZRO0j74H2Ijz"
   },
   "outputs": [
    {
     "data": {
      "text/html": [
       "<div>\n",
       "<style scoped>\n",
       "    .dataframe tbody tr th:only-of-type {\n",
       "        vertical-align: middle;\n",
       "    }\n",
       "\n",
       "    .dataframe tbody tr th {\n",
       "        vertical-align: top;\n",
       "    }\n",
       "\n",
       "    .dataframe thead th {\n",
       "        text-align: right;\n",
       "    }\n",
       "</style>\n",
       "<table border=\"1\" class=\"dataframe\">\n",
       "  <thead>\n",
       "    <tr style=\"text-align: right;\">\n",
       "      <th></th>\n",
       "      <th>id</th>\n",
       "      <th>N_Days</th>\n",
       "      <th>Drug</th>\n",
       "      <th>Age</th>\n",
       "      <th>Sex</th>\n",
       "      <th>Ascites</th>\n",
       "      <th>Hepatomegaly</th>\n",
       "      <th>Spiders</th>\n",
       "      <th>Edema</th>\n",
       "      <th>Bilirubin</th>\n",
       "      <th>Cholesterol</th>\n",
       "      <th>Albumin</th>\n",
       "      <th>Copper</th>\n",
       "      <th>Alk_Phos</th>\n",
       "      <th>SGOT</th>\n",
       "      <th>Tryglicerides</th>\n",
       "      <th>Platelets</th>\n",
       "      <th>Prothrombin</th>\n",
       "      <th>Stage</th>\n",
       "      <th>Status</th>\n",
       "    </tr>\n",
       "  </thead>\n",
       "  <tbody>\n",
       "    <tr>\n",
       "      <th>0</th>\n",
       "      <td>0</td>\n",
       "      <td>1086.0</td>\n",
       "      <td>NaN</td>\n",
       "      <td>18628.0</td>\n",
       "      <td>F</td>\n",
       "      <td>NaN</td>\n",
       "      <td>NaN</td>\n",
       "      <td>NaN</td>\n",
       "      <td>N</td>\n",
       "      <td>0.9</td>\n",
       "      <td>NaN</td>\n",
       "      <td>3.01</td>\n",
       "      <td>NaN</td>\n",
       "      <td>NaN</td>\n",
       "      <td>NaN</td>\n",
       "      <td>NaN</td>\n",
       "      <td>244.0</td>\n",
       "      <td>10.0</td>\n",
       "      <td>2.0</td>\n",
       "      <td>C</td>\n",
       "    </tr>\n",
       "    <tr>\n",
       "      <th>1</th>\n",
       "      <td>1</td>\n",
       "      <td>3231.0</td>\n",
       "      <td>NaN</td>\n",
       "      <td>18263.0</td>\n",
       "      <td>F</td>\n",
       "      <td>NaN</td>\n",
       "      <td>NaN</td>\n",
       "      <td>NaN</td>\n",
       "      <td>N</td>\n",
       "      <td>0.9</td>\n",
       "      <td>NaN</td>\n",
       "      <td>4.01</td>\n",
       "      <td>NaN</td>\n",
       "      <td>NaN</td>\n",
       "      <td>NaN</td>\n",
       "      <td>NaN</td>\n",
       "      <td>244.0</td>\n",
       "      <td>10.9</td>\n",
       "      <td>2.0</td>\n",
       "      <td>C</td>\n",
       "    </tr>\n",
       "    <tr>\n",
       "      <th>2</th>\n",
       "      <td>2</td>\n",
       "      <td>1072.0</td>\n",
       "      <td>NaN</td>\n",
       "      <td>14245.0</td>\n",
       "      <td>F</td>\n",
       "      <td>NaN</td>\n",
       "      <td>NaN</td>\n",
       "      <td>NaN</td>\n",
       "      <td>N</td>\n",
       "      <td>1.0</td>\n",
       "      <td>NaN</td>\n",
       "      <td>3.50</td>\n",
       "      <td>NaN</td>\n",
       "      <td>NaN</td>\n",
       "      <td>NaN</td>\n",
       "      <td>NaN</td>\n",
       "      <td>209.0</td>\n",
       "      <td>10.8</td>\n",
       "      <td>2.0</td>\n",
       "      <td>C</td>\n",
       "    </tr>\n",
       "  </tbody>\n",
       "</table>\n",
       "</div>"
      ],
      "text/plain": [
       "   id  N_Days Drug      Age Sex Ascites Hepatomegaly Spiders Edema  Bilirubin  \\\n",
       "0   0  1086.0  NaN  18628.0   F     NaN          NaN     NaN     N        0.9   \n",
       "1   1  3231.0  NaN  18263.0   F     NaN          NaN     NaN     N        0.9   \n",
       "2   2  1072.0  NaN  14245.0   F     NaN          NaN     NaN     N        1.0   \n",
       "\n",
       "   Cholesterol  Albumin  Copper  Alk_Phos  SGOT  Tryglicerides  Platelets  \\\n",
       "0          NaN     3.01     NaN       NaN   NaN            NaN      244.0   \n",
       "1          NaN     4.01     NaN       NaN   NaN            NaN      244.0   \n",
       "2          NaN     3.50     NaN       NaN   NaN            NaN      209.0   \n",
       "\n",
       "   Prothrombin  Stage Status  \n",
       "0         10.0    2.0      C  \n",
       "1         10.9    2.0      C  \n",
       "2         10.8    2.0      C  "
      ]
     },
     "execution_count": 4,
     "metadata": {},
     "output_type": "execute_result"
    }
   ],
   "source": [
    "train = pd.read_csv(r\"C:\\Users\\Raksha Chavan\\Downloads\\train.csv\\train.csv\")\n",
    "train.head(3)"
   ]
  },
  {
   "cell_type": "code",
   "execution_count": 6,
   "metadata": {
    "colab": {
     "base_uri": "https://localhost:8080/"
    },
    "id": "_23niYxd2IeH",
    "outputId": "3869ea4c-8d31-4a76-ed82-883eb07755fa"
   },
   "outputs": [
    {
     "name": "stdout",
     "output_type": "stream",
     "text": [
      "<class 'pandas.core.frame.DataFrame'>\n",
      "RangeIndex: 15000 entries, 0 to 14999\n",
      "Data columns (total 20 columns):\n",
      " #   Column         Non-Null Count  Dtype  \n",
      "---  ------         --------------  -----  \n",
      " 0   id             15000 non-null  int64  \n",
      " 1   N_Days         15000 non-null  float64\n",
      " 2   Drug           8581 non-null   object \n",
      " 3   Age            15000 non-null  float64\n",
      " 4   Sex            15000 non-null  object \n",
      " 5   Ascites        8585 non-null   object \n",
      " 6   Hepatomegaly   8581 non-null   object \n",
      " 7   Spiders        8574 non-null   object \n",
      " 8   Edema          15000 non-null  object \n",
      " 9   Bilirubin      15000 non-null  float64\n",
      " 10  Cholesterol    6704 non-null   float64\n",
      " 11  Albumin        15000 non-null  float64\n",
      " 12  Copper         8469 non-null   float64\n",
      " 13  Alk_Phos       8573 non-null   float64\n",
      " 14  SGOT           8570 non-null   float64\n",
      " 15  Tryglicerides  6648 non-null   float64\n",
      " 16  Platelets      14421 non-null  float64\n",
      " 17  Prothrombin    14978 non-null  float64\n",
      " 18  Stage          15000 non-null  float64\n",
      " 19  Status         15000 non-null  object \n",
      "dtypes: float64(12), int64(1), object(7)\n",
      "memory usage: 2.3+ MB\n"
     ]
    }
   ],
   "source": [
    "train.info()"
   ]
  },
  {
   "cell_type": "code",
   "execution_count": 8,
   "metadata": {
    "colab": {
     "base_uri": "https://localhost:8080/",
     "height": 711
    },
    "id": "pfXbQ7eBKBRm",
    "outputId": "517cb040-b1f1-4eea-d66d-38522f41a6a5"
   },
   "outputs": [
    {
     "data": {
      "text/plain": [
       "id                0.000000\n",
       "N_Days            0.000000\n",
       "Drug             42.793333\n",
       "Age               0.000000\n",
       "Sex               0.000000\n",
       "Ascites          42.766667\n",
       "Hepatomegaly     42.793333\n",
       "Spiders          42.840000\n",
       "Edema             0.000000\n",
       "Bilirubin         0.000000\n",
       "Cholesterol      55.306667\n",
       "Albumin           0.000000\n",
       "Copper           43.540000\n",
       "Alk_Phos         42.846667\n",
       "SGOT             42.866667\n",
       "Tryglicerides    55.680000\n",
       "Platelets         3.860000\n",
       "Prothrombin       0.146667\n",
       "Stage             0.000000\n",
       "Status            0.000000\n",
       "dtype: float64"
      ]
     },
     "execution_count": 8,
     "metadata": {},
     "output_type": "execute_result"
    }
   ],
   "source": [
    "train.isnull().sum()/len(train)*100"
   ]
  },
  {
   "cell_type": "markdown",
   "metadata": {
    "id": "BRZevn9tKQ35"
   },
   "source": [
    "Since more than 50% of the data is missing we can drop cholesterol and tryglycerides"
   ]
  },
  {
   "cell_type": "code",
   "execution_count": 10,
   "metadata": {
    "id": "agomWnU4KpnG"
   },
   "outputs": [],
   "source": [
    "train_new=train.copy()\n",
    "train_new.drop('id',axis=1,inplace=True)"
   ]
  },
  {
   "cell_type": "code",
   "execution_count": 137,
   "metadata": {},
   "outputs": [
    {
     "data": {
      "image/png": "[encoded data removed]",
      "text/plain": [
       "<Figure size 1000x600 with 16 Axes>"
      ]
     },
     "metadata": {},
     "output_type": "display_data"
    },
    {
     "data": {
      "text/plain": [
       "<Figure size 640x480 with 0 Axes>"
      ]
     },
     "metadata": {},
     "output_type": "display_data"
    }
   ],
   "source": [
    "train.hist(bins = 30, figsize = (10,6))\n",
    "plt.show()\n",
    "plt.tight_layout()"
   ]
  },
  {
   "cell_type": "markdown",
   "metadata": {},
   "source": [
    " - id: The first plot shows the distribution of the \"id\" column, which seems to represent unique patient IDs. The uniform distribution implies that each ID occurs only once.\n",
    "\n",
    " - N_Days: This might represent the number of days a patient spent in a hospital or under observation. The histogram shows a right-skewed distribution, meaning that the majority of patients had short stays, with fewer having longer durations.\n",
    "\n",
    " - Age: The age distribution is approximately normal (bell-shaped), with most patients falling within a central age range.\n",
    "\n",
    " - Bilirubin: This is a liver function test. The histogram is highly skewed to the right, meaning most patients have low bilirubin levels, while a few have significantly higher levels.\n",
    "\n",
    " - Cholesterol: The cholesterol values seem to be zero for many patients, which could either indicate missing data or that patients had normal/undetectable cholesterol levels.\n",
    "\n",
    " - Albumin: This protein level in the blood shows a right-skewed distribution, with most patients having low to moderate albumin levels.\n",
    "\n",
    " - Copper: Copper concentration is shown with most values clustering towards the lower end of the distribution.\n",
    "\n",
    " - Alk_Phos: Alkaline Phosphatase (ALP), another liver function test, has a distribution where the majority of patients have low levels, with a few outliers having high levels.\n",
    "\n",
    " - SGOT: This test measures liver enzymes, with a significant portion of patients having very low values and a few showing higher values.\n",
    "\n",
    " - Tryglicerides: The distribution shows a small number of patients with elevated triglycerides, with the majority of values near zero.\n",
    "\n",
    " - Platelets: The platelet count shows a moderately skewed distribution, with most patients having normal platelet levels and a few having higher counts.\n",
    "\n",
    " - Prothrombin: A blood clotting measure, this histogram shows most patients have similar prothrombin levels, clustered in a narrow range.\n",
    "\n",
    " - Stage: The distribution of the “Stage” feature shows that a large portion of patients are in the early stages of the condition, with fewer in more advanced stages.\n",
    "\n",
    "The overall pattern shows several right-skewed distributions (indicating that a majority of values are clustered at the low end, with fewer outliers at higher values), along with a few normal or near-normal distributions."
   ]
  },
  {
   "cell_type": "markdown",
   "metadata": {
    "id": "hm4dJU5sLU8R"
   },
   "source": [
    "# Handling missing values for numerical columns"
   ]
  },
  {
   "cell_type": "code",
   "execution_count": 12,
   "metadata": {
    "id": "_6j1mnPYLS1f"
   },
   "outputs": [],
   "source": [
    "numcol_train=train.select_dtypes('number')"
   ]
  },
  {
   "cell_type": "code",
   "execution_count": 15,
   "metadata": {
    "id": "IUQhfS2DLl5M"
   },
   "outputs": [],
   "source": [
    "import pandas as pd\n",
    "from sklearn.impute import KNNImputer\n",
    "\n",
    "numcol_train = train_new.select_dtypes(include=['float64', 'int64']).columns\n",
    "catcol_train = train_new.select_dtypes(include=['object']).columns\n",
    "\n",
    "imputer = KNNImputer(n_neighbors=3)\n",
    "\n",
    "train_new[numcol_train] = imputer.fit_transform(train_new[numcol_train])\n",
    "\n",
    "train_new[catcol_train] = train[catcol_train]"
   ]
  },
  {
   "cell_type": "code",
   "execution_count": 16,
   "metadata": {
    "colab": {
     "base_uri": "https://localhost:8080/",
     "height": 680
    },
    "id": "ua5RW_p9L8__",
    "outputId": "926d2f18-5b2a-42a7-a40a-fbf9bbad63e5"
   },
   "outputs": [
    {
     "data": {
      "text/plain": [
       "N_Days              0\n",
       "Drug             6419\n",
       "Age                 0\n",
       "Sex                 0\n",
       "Ascites          6415\n",
       "Hepatomegaly     6419\n",
       "Spiders          6426\n",
       "Edema               0\n",
       "Bilirubin           0\n",
       "Cholesterol         0\n",
       "Albumin             0\n",
       "Copper              0\n",
       "Alk_Phos            0\n",
       "SGOT                0\n",
       "Tryglicerides       0\n",
       "Platelets           0\n",
       "Prothrombin         0\n",
       "Stage               0\n",
       "Status              0\n",
       "dtype: int64"
      ]
     },
     "execution_count": 16,
     "metadata": {},
     "output_type": "execute_result"
    }
   ],
   "source": [
    "train_new.isnull().sum()"
   ]
  },
  {
   "cell_type": "markdown",
   "metadata": {
    "id": "HsmaAY7wMH_d"
   },
   "source": [
    "# Handling missing values for categorical column"
   ]
  },
  {
   "cell_type": "code",
   "execution_count": 19,
   "metadata": {
    "id": "jXy97HqEL8tD"
   },
   "outputs": [],
   "source": [
    "catcol_train = train_new.select_dtypes('object')"
   ]
  },
  {
   "cell_type": "code",
   "execution_count": 21,
   "metadata": {
    "id": "LbMlgX6rnUjH"
   },
   "outputs": [],
   "source": [
    "a=train_new['Drug'].fillna(train_new['Drug'].mode()[0],inplace=True)\n",
    "b=train_new['Ascites'].fillna(train_new['Ascites'].mode()[0],inplace=True)\n",
    "c=train_new['Hepatomegaly'].fillna(train_new['Hepatomegaly'].mode()[0],inplace=True)\n",
    "d=train_new['Spiders'].fillna(train_new['Spiders'].mode()[0],inplace=True)\n",
    "e=train_new['Cholesterol'].fillna(train_new['Cholesterol'].mode()[0],inplace=True)\n",
    "f=train_new['Copper'].fillna(train_new['Copper'].mode()[0],inplace=True)\n",
    "g=train_new['Alk_Phos'].fillna(train_new['Alk_Phos'].mode()[0],inplace=True)\n",
    "h=train_new['SGOT'].fillna(train_new['SGOT'].mode()[0],inplace=True)\n",
    "i=train_new['Tryglicerides'].fillna(train_new['Tryglicerides'].mode()[0],inplace=True)\n",
    "j=train_new['Platelets'].fillna(train_new['Platelets'].mode()[0],inplace=True)\n",
    "k=train_new['Prothrombin'].fillna(train_new['Prothrombin'].mode()[0],inplace=True)"
   ]
  },
  {
   "cell_type": "code",
   "execution_count": 23,
   "metadata": {
    "colab": {
     "base_uri": "https://localhost:8080/",
     "height": 680
    },
    "id": "tRLXGQMbMVlX",
    "outputId": "4cc511e0-f0d4-48f1-8184-f1920b7610b6"
   },
   "outputs": [
    {
     "data": {
      "text/plain": [
       "N_Days           0\n",
       "Drug             0\n",
       "Age              0\n",
       "Sex              0\n",
       "Ascites          0\n",
       "Hepatomegaly     0\n",
       "Spiders          0\n",
       "Edema            0\n",
       "Bilirubin        0\n",
       "Cholesterol      0\n",
       "Albumin          0\n",
       "Copper           0\n",
       "Alk_Phos         0\n",
       "SGOT             0\n",
       "Tryglicerides    0\n",
       "Platelets        0\n",
       "Prothrombin      0\n",
       "Stage            0\n",
       "Status           0\n",
       "dtype: int64"
      ]
     },
     "execution_count": 23,
     "metadata": {},
     "output_type": "execute_result"
    }
   ],
   "source": [
    "train_new.isnull().sum()"
   ]
  },
  {
   "cell_type": "markdown",
   "metadata": {
    "id": "4GnqAJJPNPXg"
   },
   "source": [
    "# Outliers"
   ]
  },
  {
   "cell_type": "code",
   "execution_count": 25,
   "metadata": {
    "id": "JBaPo-vlNEdu"
   },
   "outputs": [],
   "source": [
    "def remove_outliers(df, columns):\n",
    "  for col in columns:\n",
    "    Q1 = df[col].quantile(0.25)\n",
    "    Q3 = df[col].quantile(0.75)\n",
    "    IQR = Q3 - Q1\n",
    "\n",
    "    #Define outlier boundries\n",
    "    lower_bound = Q1 - 1.5 * IQR\n",
    "    upper_bound = Q3 + 1.5 * IQR\n",
    "\n",
    "    df = df[(df[col] >= lower_bound) & (df[col] <= upper_bound)]\n",
    "\n",
    "  return df\n",
    "\n",
    "if train_new is not None:\n",
    "  numcol_train = train_new.select_dtypes('number').columns\n",
    "  train_new = remove_outliers(train_new, numcol_train)\n",
    "else:\n",
    "  print(\"train_new is None\")\n",
    "\n",
    "train_new=remove_outliers(train_new,numcol_train)\n"
   ]
  },
  {
   "cell_type": "code",
   "execution_count": 27,
   "metadata": {
    "colab": {
     "base_uri": "https://localhost:8080/",
     "height": 749
    },
    "id": "V_eKb8lAQ-_0",
    "outputId": "703f1d44-7aac-423c-a497-0089f2d79f12"
   },
   "outputs": [
    {
     "data": {
      "image/png": "[encoded data removed]",
      "text/plain": [
       "<Figure size 1500x1000 with 1 Axes>"
      ]
     },
     "metadata": {},
     "output_type": "display_data"
    }
   ],
   "source": [
    "plt.figure(figsize=(15,10))\n",
    "train_new[numcol_train].boxplot()\n",
    "plt.show()"
   ]
  },
  {
   "cell_type": "markdown",
   "metadata": {
    "id": "UAAlM0OeRYGO"
   },
   "source": [
    "# LabelEncoding"
   ]
  },
  {
   "cell_type": "code",
   "execution_count": 29,
   "metadata": {
    "id": "6yDlWTwYRXcA"
   },
   "outputs": [],
   "source": [
    "le=LabelEncoder()"
   ]
  },
  {
   "cell_type": "code",
   "execution_count": 31,
   "metadata": {
    "id": "GM3j22OSQ-8X"
   },
   "outputs": [],
   "source": [
    "train_new['Spiders'] = le.fit_transform(train_new['Spiders'])\n",
    "train_new['Drug'] = le.fit_transform(train_new['Drug'])\n",
    "train_new['Sex'] = le.fit_transform(train_new['Sex'])\n",
    "train_new['Ascites'] = le.fit_transform(train_new['Ascites'])\n",
    "train_new['Hepatomegaly'] = le.fit_transform(train_new['Hepatomegaly'])\n",
    "train_new['Edema'] = le.fit_transform(train_new['Edema'])"
   ]
  },
  {
   "cell_type": "code",
   "execution_count": 33,
   "metadata": {
    "id": "4ieLeJfJQ-5H"
   },
   "outputs": [],
   "source": [
    "train_encoded = train_new.copy()"
   ]
  },
  {
   "cell_type": "markdown",
   "metadata": {
    "id": "Zmn7dgwsSJ5G"
   },
   "source": [
    "#Preprocessing the test data"
   ]
  },
  {
   "cell_type": "code",
   "execution_count": 36,
   "metadata": {
    "id": "c2gWIeJcQ-2O"
   },
   "outputs": [
    {
     "data": {
      "text/html": [
       "<div>\n",
       "<style scoped>\n",
       "    .dataframe tbody tr th:only-of-type {\n",
       "        vertical-align: middle;\n",
       "    }\n",
       "\n",
       "    .dataframe tbody tr th {\n",
       "        vertical-align: top;\n",
       "    }\n",
       "\n",
       "    .dataframe thead th {\n",
       "        text-align: right;\n",
       "    }\n",
       "</style>\n",
       "<table border=\"1\" class=\"dataframe\">\n",
       "  <thead>\n",
       "    <tr style=\"text-align: right;\">\n",
       "      <th></th>\n",
       "      <th>id</th>\n",
       "      <th>N_Days</th>\n",
       "      <th>Drug</th>\n",
       "      <th>Age</th>\n",
       "      <th>Sex</th>\n",
       "      <th>Ascites</th>\n",
       "      <th>Hepatomegaly</th>\n",
       "      <th>Spiders</th>\n",
       "      <th>Edema</th>\n",
       "      <th>Bilirubin</th>\n",
       "      <th>Cholesterol</th>\n",
       "      <th>Albumin</th>\n",
       "      <th>Copper</th>\n",
       "      <th>Alk_Phos</th>\n",
       "      <th>SGOT</th>\n",
       "      <th>Tryglicerides</th>\n",
       "      <th>Platelets</th>\n",
       "      <th>Prothrombin</th>\n",
       "      <th>Stage</th>\n",
       "    </tr>\n",
       "  </thead>\n",
       "  <tbody>\n",
       "    <tr>\n",
       "      <th>0</th>\n",
       "      <td>15000</td>\n",
       "      <td>2055.0</td>\n",
       "      <td>D-penicillamine</td>\n",
       "      <td>12398.0</td>\n",
       "      <td>F</td>\n",
       "      <td>N</td>\n",
       "      <td>N</td>\n",
       "      <td>N</td>\n",
       "      <td>N</td>\n",
       "      <td>0.9</td>\n",
       "      <td>304.0</td>\n",
       "      <td>3.00</td>\n",
       "      <td>75.0</td>\n",
       "      <td>1622.0</td>\n",
       "      <td>116.25</td>\n",
       "      <td>169.0</td>\n",
       "      <td>358.0</td>\n",
       "      <td>9.9</td>\n",
       "      <td>1.0</td>\n",
       "    </tr>\n",
       "    <tr>\n",
       "      <th>1</th>\n",
       "      <td>15001</td>\n",
       "      <td>71.0</td>\n",
       "      <td>D-penicillamine</td>\n",
       "      <td>20442.0</td>\n",
       "      <td>F</td>\n",
       "      <td>Y</td>\n",
       "      <td>Y</td>\n",
       "      <td>Y</td>\n",
       "      <td>Y</td>\n",
       "      <td>2.1</td>\n",
       "      <td>178.0</td>\n",
       "      <td>3.08</td>\n",
       "      <td>558.0</td>\n",
       "      <td>6064.8</td>\n",
       "      <td>227.04</td>\n",
       "      <td>191.0</td>\n",
       "      <td>165.0</td>\n",
       "      <td>12.0</td>\n",
       "      <td>4.0</td>\n",
       "    </tr>\n",
       "    <tr>\n",
       "      <th>2</th>\n",
       "      <td>15002</td>\n",
       "      <td>3336.0</td>\n",
       "      <td>D-penicillamine</td>\n",
       "      <td>23011.0</td>\n",
       "      <td>F</td>\n",
       "      <td>N</td>\n",
       "      <td>N</td>\n",
       "      <td>N</td>\n",
       "      <td>N</td>\n",
       "      <td>0.7</td>\n",
       "      <td>251.0</td>\n",
       "      <td>3.35</td>\n",
       "      <td>30.0</td>\n",
       "      <td>662.0</td>\n",
       "      <td>57.35</td>\n",
       "      <td>107.0</td>\n",
       "      <td>344.0</td>\n",
       "      <td>10.7</td>\n",
       "      <td>2.0</td>\n",
       "    </tr>\n",
       "  </tbody>\n",
       "</table>\n",
       "</div>"
      ],
      "text/plain": [
       "      id  N_Days             Drug      Age Sex Ascites Hepatomegaly Spiders  \\\n",
       "0  15000  2055.0  D-penicillamine  12398.0   F       N            N       N   \n",
       "1  15001    71.0  D-penicillamine  20442.0   F       Y            Y       Y   \n",
       "2  15002  3336.0  D-penicillamine  23011.0   F       N            N       N   \n",
       "\n",
       "  Edema  Bilirubin  Cholesterol  Albumin  Copper  Alk_Phos    SGOT  \\\n",
       "0     N        0.9        304.0     3.00    75.0    1622.0  116.25   \n",
       "1     Y        2.1        178.0     3.08   558.0    6064.8  227.04   \n",
       "2     N        0.7        251.0     3.35    30.0     662.0   57.35   \n",
       "\n",
       "   Tryglicerides  Platelets  Prothrombin  Stage  \n",
       "0          169.0      358.0          9.9    1.0  \n",
       "1          191.0      165.0         12.0    4.0  \n",
       "2          107.0      344.0         10.7    2.0  "
      ]
     },
     "execution_count": 36,
     "metadata": {},
     "output_type": "execute_result"
    }
   ],
   "source": [
    "test = pd.read_csv(r\"C:\\Users\\Raksha Chavan\\Downloads\\test.csv\")\n",
    "test.head(3)"
   ]
  },
  {
   "cell_type": "code",
   "execution_count": 38,
   "metadata": {
    "colab": {
     "base_uri": "https://localhost:8080/",
     "height": 680
    },
    "id": "G0_T_D3BSpTP",
    "outputId": "e77b9dac-691d-4386-b5c9-33db358049c9"
   },
   "outputs": [
    {
     "data": {
      "text/plain": [
       "id                0.00\n",
       "N_Days            0.00\n",
       "Drug             43.73\n",
       "Age               0.00\n",
       "Sex               0.00\n",
       "Ascites          43.60\n",
       "Hepatomegaly     43.73\n",
       "Spiders          43.73\n",
       "Edema             0.00\n",
       "Bilirubin         0.01\n",
       "Cholesterol      55.90\n",
       "Albumin           0.00\n",
       "Copper           44.33\n",
       "Alk_Phos         43.72\n",
       "SGOT             43.76\n",
       "Tryglicerides    56.27\n",
       "Platelets         4.03\n",
       "Prothrombin       0.18\n",
       "Stage             0.00\n",
       "dtype: float64"
      ]
     },
     "execution_count": 38,
     "metadata": {},
     "output_type": "execute_result"
    }
   ],
   "source": [
    "test.isnull().sum()/len(test)*100"
   ]
  },
  {
   "cell_type": "markdown",
   "metadata": {
    "id": "qY2ieAEVSzuE"
   },
   "source": [
    "Since more than 50% of the data is missing we can drop cholesterol and tryglycerides"
   ]
  },
  {
   "cell_type": "code",
   "execution_count": 41,
   "metadata": {
    "id": "jADGiLCwS1vW"
   },
   "outputs": [],
   "source": [
    "test_new=test.copy()"
   ]
  },
  {
   "cell_type": "markdown",
   "metadata": {
    "id": "Y_8RyvEZTmSH"
   },
   "source": [
    "# Handling missing values for numerical columns"
   ]
  },
  {
   "cell_type": "code",
   "execution_count": 44,
   "metadata": {
    "id": "r0OGzd1QTgKr"
   },
   "outputs": [],
   "source": [
    "numcol_test=test.select_dtypes('number')\n",
    "numcol_test.drop(columns='id',inplace=True)"
   ]
  },
  {
   "cell_type": "code",
   "execution_count": 47,
   "metadata": {
    "id": "CuWHV6Pnu7Fa"
   },
   "outputs": [],
   "source": [
    "import pandas as pd\n",
    "from sklearn.impute import KNNImputer\n",
    "\n",
    "numcol_test = test_new.select_dtypes(include=['float64', 'int64']).columns\n",
    "catcol_test = test_new.select_dtypes(include=['object']).columns\n",
    "\n",
    "imputer = KNNImputer(n_neighbors=3)\n",
    "\n",
    "test_new[numcol_test] = imputer.fit_transform(test_new[numcol_test])\n",
    "\n",
    "test_new[catcol_test] = test[catcol_test]"
   ]
  },
  {
   "cell_type": "code",
   "execution_count": 49,
   "metadata": {
    "colab": {
     "base_uri": "https://localhost:8080/",
     "height": 680
    },
    "id": "W3lXDrhUT7XH",
    "outputId": "f4fad436-b255-49be-cc92-59b3d635f8fe"
   },
   "outputs": [
    {
     "data": {
      "text/plain": [
       "id                  0\n",
       "N_Days              0\n",
       "Drug             4373\n",
       "Age                 0\n",
       "Sex                 0\n",
       "Ascites          4360\n",
       "Hepatomegaly     4373\n",
       "Spiders          4373\n",
       "Edema               0\n",
       "Bilirubin           0\n",
       "Cholesterol         0\n",
       "Albumin             0\n",
       "Copper              0\n",
       "Alk_Phos            0\n",
       "SGOT                0\n",
       "Tryglicerides       0\n",
       "Platelets           0\n",
       "Prothrombin         0\n",
       "Stage               0\n",
       "dtype: int64"
      ]
     },
     "execution_count": 49,
     "metadata": {},
     "output_type": "execute_result"
    }
   ],
   "source": [
    "test_new.isnull().sum()"
   ]
  },
  {
   "cell_type": "markdown",
   "metadata": {
    "id": "-y2l0qK6UIB6"
   },
   "source": [
    "# Handling missing values for categorical columns"
   ]
  },
  {
   "cell_type": "code",
   "execution_count": 51,
   "metadata": {
    "id": "k-WACJZHUZAC"
   },
   "outputs": [],
   "source": [
    "a=test_new['Drug'].fillna(test_new['Drug'].mode()[0],inplace=True)\n",
    "b=test_new['Ascites'].fillna(test_new['Ascites'].mode()[0],inplace=True)\n",
    "c=test_new['Hepatomegaly'].fillna(test_new['Hepatomegaly'].mode()[0],inplace=True)\n",
    "d=test_new['Spiders'].fillna(test_new['Spiders'].mode()[0],inplace=True)\n"
   ]
  },
  {
   "cell_type": "code",
   "execution_count": 53,
   "metadata": {
    "colab": {
     "base_uri": "https://localhost:8080/"
    },
    "id": "Jy5jgFF8pwdJ",
    "outputId": "c6a9dc64-b602-4fba-f0bb-0a9efecb4075"
   },
   "outputs": [
    {
     "data": {
      "text/plain": [
       "(10000, 19)"
      ]
     },
     "execution_count": 53,
     "metadata": {},
     "output_type": "execute_result"
    }
   ],
   "source": [
    "test_new.shape"
   ]
  },
  {
   "cell_type": "code",
   "execution_count": 55,
   "metadata": {
    "colab": {
     "base_uri": "https://localhost:8080/",
     "height": 680
    },
    "id": "8gE1oJFLUY8b",
    "outputId": "4ad6e2ab-c81f-4b1b-c17e-d8a404c43938"
   },
   "outputs": [
    {
     "data": {
      "text/plain": [
       "id               0\n",
       "N_Days           0\n",
       "Drug             0\n",
       "Age              0\n",
       "Sex              0\n",
       "Ascites          0\n",
       "Hepatomegaly     0\n",
       "Spiders          0\n",
       "Edema            0\n",
       "Bilirubin        0\n",
       "Cholesterol      0\n",
       "Albumin          0\n",
       "Copper           0\n",
       "Alk_Phos         0\n",
       "SGOT             0\n",
       "Tryglicerides    0\n",
       "Platelets        0\n",
       "Prothrombin      0\n",
       "Stage            0\n",
       "dtype: int64"
      ]
     },
     "execution_count": 55,
     "metadata": {},
     "output_type": "execute_result"
    }
   ],
   "source": [
    "test_new.isnull().sum()"
   ]
  },
  {
   "cell_type": "code",
   "execution_count": 57,
   "metadata": {
    "colab": {
     "base_uri": "https://localhost:8080/"
    },
    "id": "HGiuJiJLzz4C",
    "outputId": "025a1e24-ed35-4587-b8a8-fd53270c1e80"
   },
   "outputs": [
    {
     "data": {
      "text/plain": [
       "(10000, 19)"
      ]
     },
     "execution_count": 57,
     "metadata": {},
     "output_type": "execute_result"
    }
   ],
   "source": [
    "test_new.shape"
   ]
  },
  {
   "cell_type": "code",
   "execution_count": 59,
   "metadata": {
    "colab": {
     "base_uri": "https://localhost:8080/",
     "height": 830
    },
    "id": "TOvUwU3eVsG0",
    "outputId": "3c321039-f95c-4255-80ae-2f9f7f201c65"
   },
   "outputs": [
    {
     "data": {
      "image/png": "[encoded data removed]",
      "text/plain": [
       "<Figure size 1500x1000 with 1 Axes>"
      ]
     },
     "metadata": {},
     "output_type": "display_data"
    }
   ],
   "source": [
    "plt.figure(figsize=(15,10))\n",
    "test_new[numcol_test].boxplot()\n",
    "plt.show()"
   ]
  },
  {
   "cell_type": "code",
   "execution_count": 61,
   "metadata": {
    "colab": {
     "base_uri": "https://localhost:8080/",
     "height": 313
    },
    "id": "VUAzvl_XlCiI",
    "outputId": "d638853d-a749-4c59-d8cc-c80b413695e6"
   },
   "outputs": [
    {
     "data": {
      "text/html": [
       "<div>\n",
       "<style scoped>\n",
       "    .dataframe tbody tr th:only-of-type {\n",
       "        vertical-align: middle;\n",
       "    }\n",
       "\n",
       "    .dataframe tbody tr th {\n",
       "        vertical-align: top;\n",
       "    }\n",
       "\n",
       "    .dataframe thead th {\n",
       "        text-align: right;\n",
       "    }\n",
       "</style>\n",
       "<table border=\"1\" class=\"dataframe\">\n",
       "  <thead>\n",
       "    <tr style=\"text-align: right;\">\n",
       "      <th></th>\n",
       "      <th>id</th>\n",
       "      <th>N_Days</th>\n",
       "      <th>Drug</th>\n",
       "      <th>Age</th>\n",
       "      <th>Sex</th>\n",
       "      <th>Ascites</th>\n",
       "      <th>Hepatomegaly</th>\n",
       "      <th>Spiders</th>\n",
       "      <th>Edema</th>\n",
       "      <th>Bilirubin</th>\n",
       "      <th>Cholesterol</th>\n",
       "      <th>Albumin</th>\n",
       "      <th>Copper</th>\n",
       "      <th>Alk_Phos</th>\n",
       "      <th>SGOT</th>\n",
       "      <th>Tryglicerides</th>\n",
       "      <th>Platelets</th>\n",
       "      <th>Prothrombin</th>\n",
       "      <th>Stage</th>\n",
       "    </tr>\n",
       "  </thead>\n",
       "  <tbody>\n",
       "    <tr>\n",
       "      <th>0</th>\n",
       "      <td>15000.0</td>\n",
       "      <td>2055.0</td>\n",
       "      <td>D-penicillamine</td>\n",
       "      <td>12398.0</td>\n",
       "      <td>F</td>\n",
       "      <td>N</td>\n",
       "      <td>N</td>\n",
       "      <td>N</td>\n",
       "      <td>N</td>\n",
       "      <td>0.9</td>\n",
       "      <td>304.000000</td>\n",
       "      <td>3.00</td>\n",
       "      <td>75.000000</td>\n",
       "      <td>1622.0</td>\n",
       "      <td>116.250000</td>\n",
       "      <td>169.000000</td>\n",
       "      <td>358.0</td>\n",
       "      <td>9.9</td>\n",
       "      <td>1.0</td>\n",
       "    </tr>\n",
       "    <tr>\n",
       "      <th>1</th>\n",
       "      <td>15001.0</td>\n",
       "      <td>71.0</td>\n",
       "      <td>D-penicillamine</td>\n",
       "      <td>20442.0</td>\n",
       "      <td>F</td>\n",
       "      <td>Y</td>\n",
       "      <td>Y</td>\n",
       "      <td>Y</td>\n",
       "      <td>Y</td>\n",
       "      <td>2.1</td>\n",
       "      <td>178.000000</td>\n",
       "      <td>3.08</td>\n",
       "      <td>558.000000</td>\n",
       "      <td>6064.8</td>\n",
       "      <td>227.040000</td>\n",
       "      <td>191.000000</td>\n",
       "      <td>165.0</td>\n",
       "      <td>12.0</td>\n",
       "      <td>4.0</td>\n",
       "    </tr>\n",
       "    <tr>\n",
       "      <th>2</th>\n",
       "      <td>15002.0</td>\n",
       "      <td>3336.0</td>\n",
       "      <td>D-penicillamine</td>\n",
       "      <td>23011.0</td>\n",
       "      <td>F</td>\n",
       "      <td>N</td>\n",
       "      <td>N</td>\n",
       "      <td>N</td>\n",
       "      <td>N</td>\n",
       "      <td>0.7</td>\n",
       "      <td>251.000000</td>\n",
       "      <td>3.35</td>\n",
       "      <td>30.000000</td>\n",
       "      <td>662.0</td>\n",
       "      <td>57.350000</td>\n",
       "      <td>107.000000</td>\n",
       "      <td>344.0</td>\n",
       "      <td>10.7</td>\n",
       "      <td>2.0</td>\n",
       "    </tr>\n",
       "    <tr>\n",
       "      <th>3</th>\n",
       "      <td>15003.0</td>\n",
       "      <td>1150.0</td>\n",
       "      <td>D-penicillamine</td>\n",
       "      <td>18993.0</td>\n",
       "      <td>F</td>\n",
       "      <td>N</td>\n",
       "      <td>N</td>\n",
       "      <td>N</td>\n",
       "      <td>N</td>\n",
       "      <td>0.9</td>\n",
       "      <td>591.333333</td>\n",
       "      <td>3.29</td>\n",
       "      <td>53.666667</td>\n",
       "      <td>2099.0</td>\n",
       "      <td>143.116667</td>\n",
       "      <td>117.666667</td>\n",
       "      <td>256.0</td>\n",
       "      <td>10.8</td>\n",
       "      <td>2.0</td>\n",
       "    </tr>\n",
       "    <tr>\n",
       "      <th>4</th>\n",
       "      <td>15004.0</td>\n",
       "      <td>2363.0</td>\n",
       "      <td>D-penicillamine</td>\n",
       "      <td>18118.0</td>\n",
       "      <td>F</td>\n",
       "      <td>N</td>\n",
       "      <td>Y</td>\n",
       "      <td>N</td>\n",
       "      <td>N</td>\n",
       "      <td>0.9</td>\n",
       "      <td>315.000000</td>\n",
       "      <td>3.40</td>\n",
       "      <td>35.000000</td>\n",
       "      <td>1840.0</td>\n",
       "      <td>170.500000</td>\n",
       "      <td>70.000000</td>\n",
       "      <td>356.0</td>\n",
       "      <td>10.9</td>\n",
       "      <td>2.0</td>\n",
       "    </tr>\n",
       "  </tbody>\n",
       "</table>\n",
       "</div>"
      ],
      "text/plain": [
       "        id  N_Days             Drug      Age Sex Ascites Hepatomegaly Spiders  \\\n",
       "0  15000.0  2055.0  D-penicillamine  12398.0   F       N            N       N   \n",
       "1  15001.0    71.0  D-penicillamine  20442.0   F       Y            Y       Y   \n",
       "2  15002.0  3336.0  D-penicillamine  23011.0   F       N            N       N   \n",
       "3  15003.0  1150.0  D-penicillamine  18993.0   F       N            N       N   \n",
       "4  15004.0  2363.0  D-penicillamine  18118.0   F       N            Y       N   \n",
       "\n",
       "  Edema  Bilirubin  Cholesterol  Albumin      Copper  Alk_Phos        SGOT  \\\n",
       "0     N        0.9   304.000000     3.00   75.000000    1622.0  116.250000   \n",
       "1     Y        2.1   178.000000     3.08  558.000000    6064.8  227.040000   \n",
       "2     N        0.7   251.000000     3.35   30.000000     662.0   57.350000   \n",
       "3     N        0.9   591.333333     3.29   53.666667    2099.0  143.116667   \n",
       "4     N        0.9   315.000000     3.40   35.000000    1840.0  170.500000   \n",
       "\n",
       "   Tryglicerides  Platelets  Prothrombin  Stage  \n",
       "0     169.000000      358.0          9.9    1.0  \n",
       "1     191.000000      165.0         12.0    4.0  \n",
       "2     107.000000      344.0         10.7    2.0  \n",
       "3     117.666667      256.0         10.8    2.0  \n",
       "4      70.000000      356.0         10.9    2.0  "
      ]
     },
     "execution_count": 61,
     "metadata": {},
     "output_type": "execute_result"
    }
   ],
   "source": [
    "test_new.head()"
   ]
  },
  {
   "cell_type": "code",
   "execution_count": 63,
   "metadata": {
    "colab": {
     "base_uri": "https://localhost:8080/"
    },
    "id": "ZxoRP5RcrK3l",
    "outputId": "05eb565d-9fbf-4991-8a0b-d2ec91c60c93"
   },
   "outputs": [
    {
     "data": {
      "text/plain": [
       "(10000, 19)"
      ]
     },
     "execution_count": 63,
     "metadata": {},
     "output_type": "execute_result"
    }
   ],
   "source": [
    "test_new.shape"
   ]
  },
  {
   "cell_type": "markdown",
   "metadata": {
    "id": "3GZqBVbQWSUj"
   },
   "source": [
    "#LabelEncoding"
   ]
  },
  {
   "cell_type": "code",
   "execution_count": 65,
   "metadata": {
    "id": "V34DyLrltELL"
   },
   "outputs": [],
   "source": [
    "le = LabelEncoder()"
   ]
  },
  {
   "cell_type": "code",
   "execution_count": 67,
   "metadata": {
    "id": "QdTyou4cWZK3"
   },
   "outputs": [],
   "source": [
    "test_new['Spiders'] = le.fit_transform(test_new['Spiders'])\n",
    "test_new['Drug'] = le.fit_transform(test_new['Drug'])\n",
    "test_new['Sex'] = le.fit_transform(test_new['Sex'])\n",
    "test_new['Ascites'] = le.fit_transform(test_new['Ascites'])\n",
    "test_new['Hepatomegaly'] = le.fit_transform(test_new['Hepatomegaly'])\n",
    "test_new['Edema'] = le.fit_transform(test_new['Edema'])\n",
    "test_new['id'] = le.fit_transform(test_new['id'])"
   ]
  },
  {
   "cell_type": "code",
   "execution_count": 69,
   "metadata": {
    "id": "z_51rQokWcld"
   },
   "outputs": [],
   "source": [
    "test_encoded = test_new.copy()"
   ]
  },
  {
   "cell_type": "code",
   "execution_count": 71,
   "metadata": {
    "colab": {
     "base_uri": "https://localhost:8080/",
     "height": 443
    },
    "id": "VXK-N-5MWlav",
    "outputId": "daadcfe9-fcfc-4bee-aa1c-e6656f6c5cd4"
   },
   "outputs": [
    {
     "data": {
      "text/html": [
       "<div>\n",
       "<style scoped>\n",
       "    .dataframe tbody tr th:only-of-type {\n",
       "        vertical-align: middle;\n",
       "    }\n",
       "\n",
       "    .dataframe tbody tr th {\n",
       "        vertical-align: top;\n",
       "    }\n",
       "\n",
       "    .dataframe thead th {\n",
       "        text-align: right;\n",
       "    }\n",
       "</style>\n",
       "<table border=\"1\" class=\"dataframe\">\n",
       "  <thead>\n",
       "    <tr style=\"text-align: right;\">\n",
       "      <th></th>\n",
       "      <th>id</th>\n",
       "      <th>N_Days</th>\n",
       "      <th>Drug</th>\n",
       "      <th>Age</th>\n",
       "      <th>Sex</th>\n",
       "      <th>Ascites</th>\n",
       "      <th>Hepatomegaly</th>\n",
       "      <th>Spiders</th>\n",
       "      <th>Edema</th>\n",
       "      <th>Bilirubin</th>\n",
       "      <th>Cholesterol</th>\n",
       "      <th>Albumin</th>\n",
       "      <th>Copper</th>\n",
       "      <th>Alk_Phos</th>\n",
       "      <th>SGOT</th>\n",
       "      <th>Tryglicerides</th>\n",
       "      <th>Platelets</th>\n",
       "      <th>Prothrombin</th>\n",
       "      <th>Stage</th>\n",
       "    </tr>\n",
       "  </thead>\n",
       "  <tbody>\n",
       "    <tr>\n",
       "      <th>0</th>\n",
       "      <td>0</td>\n",
       "      <td>2055.0</td>\n",
       "      <td>0</td>\n",
       "      <td>12398.0</td>\n",
       "      <td>0</td>\n",
       "      <td>0</td>\n",
       "      <td>0</td>\n",
       "      <td>1</td>\n",
       "      <td>0</td>\n",
       "      <td>0.9</td>\n",
       "      <td>304.000000</td>\n",
       "      <td>3.00</td>\n",
       "      <td>75.000000</td>\n",
       "      <td>1622.000000</td>\n",
       "      <td>116.250000</td>\n",
       "      <td>169.000000</td>\n",
       "      <td>358.0</td>\n",
       "      <td>9.9</td>\n",
       "      <td>1.0</td>\n",
       "    </tr>\n",
       "    <tr>\n",
       "      <th>1</th>\n",
       "      <td>1</td>\n",
       "      <td>71.0</td>\n",
       "      <td>0</td>\n",
       "      <td>20442.0</td>\n",
       "      <td>0</td>\n",
       "      <td>1</td>\n",
       "      <td>1</td>\n",
       "      <td>2</td>\n",
       "      <td>2</td>\n",
       "      <td>2.1</td>\n",
       "      <td>178.000000</td>\n",
       "      <td>3.08</td>\n",
       "      <td>558.000000</td>\n",
       "      <td>6064.800000</td>\n",
       "      <td>227.040000</td>\n",
       "      <td>191.000000</td>\n",
       "      <td>165.0</td>\n",
       "      <td>12.0</td>\n",
       "      <td>4.0</td>\n",
       "    </tr>\n",
       "    <tr>\n",
       "      <th>2</th>\n",
       "      <td>2</td>\n",
       "      <td>3336.0</td>\n",
       "      <td>0</td>\n",
       "      <td>23011.0</td>\n",
       "      <td>0</td>\n",
       "      <td>0</td>\n",
       "      <td>0</td>\n",
       "      <td>1</td>\n",
       "      <td>0</td>\n",
       "      <td>0.7</td>\n",
       "      <td>251.000000</td>\n",
       "      <td>3.35</td>\n",
       "      <td>30.000000</td>\n",
       "      <td>662.000000</td>\n",
       "      <td>57.350000</td>\n",
       "      <td>107.000000</td>\n",
       "      <td>344.0</td>\n",
       "      <td>10.7</td>\n",
       "      <td>2.0</td>\n",
       "    </tr>\n",
       "    <tr>\n",
       "      <th>3</th>\n",
       "      <td>3</td>\n",
       "      <td>1150.0</td>\n",
       "      <td>0</td>\n",
       "      <td>18993.0</td>\n",
       "      <td>0</td>\n",
       "      <td>0</td>\n",
       "      <td>0</td>\n",
       "      <td>1</td>\n",
       "      <td>0</td>\n",
       "      <td>0.9</td>\n",
       "      <td>591.333333</td>\n",
       "      <td>3.29</td>\n",
       "      <td>53.666667</td>\n",
       "      <td>2099.000000</td>\n",
       "      <td>143.116667</td>\n",
       "      <td>117.666667</td>\n",
       "      <td>256.0</td>\n",
       "      <td>10.8</td>\n",
       "      <td>2.0</td>\n",
       "    </tr>\n",
       "    <tr>\n",
       "      <th>4</th>\n",
       "      <td>4</td>\n",
       "      <td>2363.0</td>\n",
       "      <td>0</td>\n",
       "      <td>18118.0</td>\n",
       "      <td>0</td>\n",
       "      <td>0</td>\n",
       "      <td>1</td>\n",
       "      <td>1</td>\n",
       "      <td>0</td>\n",
       "      <td>0.9</td>\n",
       "      <td>315.000000</td>\n",
       "      <td>3.40</td>\n",
       "      <td>35.000000</td>\n",
       "      <td>1840.000000</td>\n",
       "      <td>170.500000</td>\n",
       "      <td>70.000000</td>\n",
       "      <td>356.0</td>\n",
       "      <td>10.9</td>\n",
       "      <td>2.0</td>\n",
       "    </tr>\n",
       "    <tr>\n",
       "      <th>...</th>\n",
       "      <td>...</td>\n",
       "      <td>...</td>\n",
       "      <td>...</td>\n",
       "      <td>...</td>\n",
       "      <td>...</td>\n",
       "      <td>...</td>\n",
       "      <td>...</td>\n",
       "      <td>...</td>\n",
       "      <td>...</td>\n",
       "      <td>...</td>\n",
       "      <td>...</td>\n",
       "      <td>...</td>\n",
       "      <td>...</td>\n",
       "      <td>...</td>\n",
       "      <td>...</td>\n",
       "      <td>...</td>\n",
       "      <td>...</td>\n",
       "      <td>...</td>\n",
       "      <td>...</td>\n",
       "    </tr>\n",
       "    <tr>\n",
       "      <th>9995</th>\n",
       "      <td>9995</td>\n",
       "      <td>559.0</td>\n",
       "      <td>0</td>\n",
       "      <td>23011.0</td>\n",
       "      <td>0</td>\n",
       "      <td>0</td>\n",
       "      <td>0</td>\n",
       "      <td>1</td>\n",
       "      <td>1</td>\n",
       "      <td>0.6</td>\n",
       "      <td>314.666667</td>\n",
       "      <td>3.04</td>\n",
       "      <td>43.000000</td>\n",
       "      <td>974.333333</td>\n",
       "      <td>110.050000</td>\n",
       "      <td>71.333333</td>\n",
       "      <td>160.0</td>\n",
       "      <td>11.8</td>\n",
       "      <td>3.0</td>\n",
       "    </tr>\n",
       "    <tr>\n",
       "      <th>9996</th>\n",
       "      <td>9996</td>\n",
       "      <td>2698.0</td>\n",
       "      <td>0</td>\n",
       "      <td>22646.0</td>\n",
       "      <td>0</td>\n",
       "      <td>0</td>\n",
       "      <td>0</td>\n",
       "      <td>1</td>\n",
       "      <td>0</td>\n",
       "      <td>0.6</td>\n",
       "      <td>299.333333</td>\n",
       "      <td>3.29</td>\n",
       "      <td>28.000000</td>\n",
       "      <td>3617.933333</td>\n",
       "      <td>106.433333</td>\n",
       "      <td>90.000000</td>\n",
       "      <td>155.0</td>\n",
       "      <td>10.4</td>\n",
       "      <td>3.0</td>\n",
       "    </tr>\n",
       "    <tr>\n",
       "      <th>9997</th>\n",
       "      <td>9997</td>\n",
       "      <td>1092.0</td>\n",
       "      <td>0</td>\n",
       "      <td>14610.0</td>\n",
       "      <td>0</td>\n",
       "      <td>0</td>\n",
       "      <td>0</td>\n",
       "      <td>1</td>\n",
       "      <td>0</td>\n",
       "      <td>2.8</td>\n",
       "      <td>449.333333</td>\n",
       "      <td>3.46</td>\n",
       "      <td>109.666667</td>\n",
       "      <td>1554.333333</td>\n",
       "      <td>164.563333</td>\n",
       "      <td>85.666667</td>\n",
       "      <td>337.0</td>\n",
       "      <td>10.4</td>\n",
       "      <td>1.0</td>\n",
       "    </tr>\n",
       "    <tr>\n",
       "      <th>9998</th>\n",
       "      <td>9998</td>\n",
       "      <td>785.0</td>\n",
       "      <td>0</td>\n",
       "      <td>19358.0</td>\n",
       "      <td>0</td>\n",
       "      <td>0</td>\n",
       "      <td>0</td>\n",
       "      <td>1</td>\n",
       "      <td>0</td>\n",
       "      <td>14.0</td>\n",
       "      <td>318.000000</td>\n",
       "      <td>3.15</td>\n",
       "      <td>62.666667</td>\n",
       "      <td>782.666667</td>\n",
       "      <td>72.850000</td>\n",
       "      <td>106.000000</td>\n",
       "      <td>142.0</td>\n",
       "      <td>11.8</td>\n",
       "      <td>4.0</td>\n",
       "    </tr>\n",
       "    <tr>\n",
       "      <th>9999</th>\n",
       "      <td>9999</td>\n",
       "      <td>1236.0</td>\n",
       "      <td>0</td>\n",
       "      <td>18993.0</td>\n",
       "      <td>0</td>\n",
       "      <td>0</td>\n",
       "      <td>0</td>\n",
       "      <td>1</td>\n",
       "      <td>0</td>\n",
       "      <td>0.7</td>\n",
       "      <td>381.666667</td>\n",
       "      <td>3.40</td>\n",
       "      <td>132.333333</td>\n",
       "      <td>828.333333</td>\n",
       "      <td>99.200000</td>\n",
       "      <td>137.333333</td>\n",
       "      <td>256.0</td>\n",
       "      <td>10.6</td>\n",
       "      <td>3.0</td>\n",
       "    </tr>\n",
       "  </tbody>\n",
       "</table>\n",
       "<p>10000 rows × 19 columns</p>\n",
       "</div>"
      ],
      "text/plain": [
       "        id  N_Days  Drug      Age  Sex  Ascites  Hepatomegaly  Spiders  Edema  \\\n",
       "0        0  2055.0     0  12398.0    0        0             0        1      0   \n",
       "1        1    71.0     0  20442.0    0        1             1        2      2   \n",
       "2        2  3336.0     0  23011.0    0        0             0        1      0   \n",
       "3        3  1150.0     0  18993.0    0        0             0        1      0   \n",
       "4        4  2363.0     0  18118.0    0        0             1        1      0   \n",
       "...    ...     ...   ...      ...  ...      ...           ...      ...    ...   \n",
       "9995  9995   559.0     0  23011.0    0        0             0        1      1   \n",
       "9996  9996  2698.0     0  22646.0    0        0             0        1      0   \n",
       "9997  9997  1092.0     0  14610.0    0        0             0        1      0   \n",
       "9998  9998   785.0     0  19358.0    0        0             0        1      0   \n",
       "9999  9999  1236.0     0  18993.0    0        0             0        1      0   \n",
       "\n",
       "      Bilirubin  Cholesterol  Albumin      Copper     Alk_Phos        SGOT  \\\n",
       "0           0.9   304.000000     3.00   75.000000  1622.000000  116.250000   \n",
       "1           2.1   178.000000     3.08  558.000000  6064.800000  227.040000   \n",
       "2           0.7   251.000000     3.35   30.000000   662.000000   57.350000   \n",
       "3           0.9   591.333333     3.29   53.666667  2099.000000  143.116667   \n",
       "4           0.9   315.000000     3.40   35.000000  1840.000000  170.500000   \n",
       "...         ...          ...      ...         ...          ...         ...   \n",
       "9995        0.6   314.666667     3.04   43.000000   974.333333  110.050000   \n",
       "9996        0.6   299.333333     3.29   28.000000  3617.933333  106.433333   \n",
       "9997        2.8   449.333333     3.46  109.666667  1554.333333  164.563333   \n",
       "9998       14.0   318.000000     3.15   62.666667   782.666667   72.850000   \n",
       "9999        0.7   381.666667     3.40  132.333333   828.333333   99.200000   \n",
       "\n",
       "      Tryglicerides  Platelets  Prothrombin  Stage  \n",
       "0        169.000000      358.0          9.9    1.0  \n",
       "1        191.000000      165.0         12.0    4.0  \n",
       "2        107.000000      344.0         10.7    2.0  \n",
       "3        117.666667      256.0         10.8    2.0  \n",
       "4         70.000000      356.0         10.9    2.0  \n",
       "...             ...        ...          ...    ...  \n",
       "9995      71.333333      160.0         11.8    3.0  \n",
       "9996      90.000000      155.0         10.4    3.0  \n",
       "9997      85.666667      337.0         10.4    1.0  \n",
       "9998     106.000000      142.0         11.8    4.0  \n",
       "9999     137.333333      256.0         10.6    3.0  \n",
       "\n",
       "[10000 rows x 19 columns]"
      ]
     },
     "execution_count": 71,
     "metadata": {},
     "output_type": "execute_result"
    }
   ],
   "source": [
    "test_encoded"
   ]
  },
  {
   "cell_type": "code",
   "execution_count": 73,
   "metadata": {
    "colab": {
     "base_uri": "https://localhost:8080/"
    },
    "id": "N7_3kYgNq-nD",
    "outputId": "7f9f3c3d-4ef0-43f3-d970-17742baf0ee3"
   },
   "outputs": [
    {
     "data": {
      "text/plain": [
       "(10000, 19)"
      ]
     },
     "execution_count": 73,
     "metadata": {},
     "output_type": "execute_result"
    }
   ],
   "source": [
    "test_encoded.shape"
   ]
  },
  {
   "cell_type": "code",
   "execution_count": 87,
   "metadata": {
    "id": "EbUEGx7GlSts"
   },
   "outputs": [],
   "source": [
    "X_train = train_encoded.drop(columns=['Status'])\n",
    "y_train = train_encoded['Status']\n",
    "\n",
    "X_test = test_encoded\n",
    "X_test = test_encoded.drop(columns='id')\n",
    "\n",
    "scaler = StandardScaler()\n",
    "X_train_scaled = scaler.fit_transform(X_train)\n",
    "X_test_scaled = scaler.transform(X_test)\n"
   ]
  },
  {
   "cell_type": "markdown",
   "metadata": {},
   "source": [
    "# Decision Tree"
   ]
  },
  {
   "cell_type": "code",
   "execution_count": 93,
   "metadata": {},
   "outputs": [],
   "source": [
    "X = test_new.drop('Stage', axis=1)  # Features\n",
    "y = test_new['Stage']     "
   ]
  },
  {
   "cell_type": "code",
   "execution_count": 101,
   "metadata": {},
   "outputs": [
    {
     "name": "stdout",
     "output_type": "stream",
     "text": [
      "Accuracy: 46.65%\n",
      "Confusion Matrix:\n",
      "[[ 12  29  62  13]\n",
      " [ 37 120 193  82]\n",
      " [ 55 198 359 157]\n",
      " [ 18  75 148 442]]\n",
      "Classification Report:\n",
      "              precision    recall  f1-score   support\n",
      "\n",
      "         1.0       0.10      0.10      0.10       116\n",
      "         2.0       0.28      0.28      0.28       432\n",
      "         3.0       0.47      0.47      0.47       769\n",
      "         4.0       0.64      0.65      0.64       683\n",
      "\n",
      "    accuracy                           0.47      2000\n",
      "   macro avg       0.37      0.37      0.37      2000\n",
      "weighted avg       0.47      0.47      0.47      2000\n",
      "\n"
     ]
    }
   ],
   "source": [
    "from sklearn.tree import DecisionTreeClassifier\n",
    "X_train, X_test, y_train, y_test = train_test_split(X, y, test_size=0.2, random_state=42)\n",
    "\n",
    "# Step 5: Initialize and train the Decision Tree Classifier\n",
    "clf = DecisionTreeClassifier(random_state=42)\n",
    "clf.fit(X_train, y_train)\n",
    "\n",
    "# Step 6: Make predictions on the test set\n",
    "y_pred = clf.predict(X_test)\n",
    "\n",
    "# Step 7: Evaluate the model\n",
    "accuracy = accuracy_score(y_test, y_pred)\n",
    "conf_matrix = confusion_matrix(y_test, y_pred)\n",
    "class_report = classification_report(y_test, y_pred)\n",
    "\n",
    "print(f\"Accuracy: {accuracy * 100:.2f}%\")\n",
    "print(\"Confusion Matrix:\")\n",
    "print(conf_matrix)\n",
    "print(\"Classification Report:\")\n",
    "print(class_report)"
   ]
  },
  {
   "cell_type": "code",
   "execution_count": 105,
   "metadata": {},
   "outputs": [
    {
     "name": "stdout",
     "output_type": "stream",
     "text": [
      "Best parameters found:  {'criterion': 'poisson', 'max_depth': 5, 'max_features': 'log2', 'min_samples_leaf': 1, 'min_samples_split': 2}\n",
      "Test set score of the best model: 0.25\n"
     ]
    }
   ],
   "source": [
    "from sklearn.model_selection import GridSearchCV\n",
    "from sklearn.tree import DecisionTreeRegressor\n",
    "\n",
    "import warnings \n",
    "warnings.filterwarnings('ignore')\n",
    "\n",
    "# Set up the parameter grid for tuning\n",
    "param_grid = {\n",
    "    'max_depth': [None, 5, 10, 15],\n",
    "    'min_samples_split': [2, 5, 10],\n",
    "    'min_samples_leaf': [1, 2, 4],\n",
    "    'max_features': ['auto', 'sqrt', 'log2'],\n",
    "    'criterion': ['poisson', 'friedman_mse', 'squared_error', 'absolute_error']\n",
    "}\n",
    "\n",
    "# Set up Grid Search\n",
    "grid_search = GridSearchCV(DecisionTreeRegressor(), param_grid, cv=5)\n",
    "grid_search.fit(X_train, y_train)\n",
    "\n",
    "# Output the best parameters\n",
    "print(\"Best parameters found: \", grid_search.best_params_)\n",
    "\n",
    "# Evaluate the best model on the test set\n",
    "best_model = grid_search.best_estimator_\n",
    "test_score = best_model.score(X_test, y_test)\n",
    "print(f\"Test set score of the best model: {test_score:.2f}\")"
   ]
  },
  {
   "cell_type": "code",
   "execution_count": 107,
   "metadata": {},
   "outputs": [
    {
     "name": "stdout",
     "output_type": "stream",
     "text": [
      "{'min_samples_split': 2, 'min_samples_leaf': 5, 'max_depth': 10, 'criterion': 'poisson'}\n"
     ]
    }
   ],
   "source": [
    "from sklearn.tree import DecisionTreeRegressor\n",
    "from sklearn.model_selection import RandomizedSearchCV\n",
    "param_grid = {\n",
    "    'max_depth': [None, 10, 20, 30],\n",
    "    'min_samples_split': [2, 5, 10],\n",
    "    'min_samples_leaf': [2, 5, 10],\n",
    "    'criterion': ['poisson', 'friedman_mse', 'squared_error', 'absolute_error']\n",
    "}\n",
    "\n",
    "df = DecisionTreeRegressor(random_state=42)\n",
    "random_search = RandomizedSearchCV(estimator=df, param_distributions=param_grid,cv=5,random_state=42)\n",
    "random_search.fit(X_train, y_train)\n",
    "print(random_search.best_params_)"
   ]
  },
  {
   "cell_type": "markdown",
   "metadata": {},
   "source": [
    "# Logistic Regression"
   ]
  },
  {
   "cell_type": "code",
   "execution_count": 118,
   "metadata": {},
   "outputs": [],
   "source": [
    "X = train_new.drop(columns=['Status'])  # Drop 'Status' as it's the target\n",
    "y = train_new['Status'] "
   ]
  },
  {
   "cell_type": "code",
   "execution_count": 120,
   "metadata": {},
   "outputs": [
    {
     "name": "stdout",
     "output_type": "stream",
     "text": [
      "Accuracy: 0.8497409326424871\n",
      "Classification Report:\n",
      "               precision    recall  f1-score   support\n",
      "\n",
      "           C       0.85      0.99      0.92      1315\n",
      "          CL       0.00      0.00      0.00        22\n",
      "           D       0.36      0.02      0.04       207\n",
      "\n",
      "    accuracy                           0.85      1544\n",
      "   macro avg       0.41      0.34      0.32      1544\n",
      "weighted avg       0.78      0.85      0.79      1544\n",
      "\n"
     ]
    }
   ],
   "source": [
    "from sklearn.model_selection import train_test_split\n",
    "from sklearn.linear_model import LogisticRegression\n",
    "from sklearn.metrics import classification_report, accuracy_score\n",
    "import warnings \n",
    "warnings.filterwarnings('ignore')\n",
    "\n",
    "# Step 1: Prepare features (X) and target (y)\n",
    "X = train_new.drop(columns=['Status'])  # Drop 'Status' as it's the target\n",
    "y = train_new['Status']  \n",
    "\n",
    "# Step 2: Split data into train and test sets (80% train, 20% test)\n",
    "X_train, X_test, y_train, y_test = train_test_split(X, y, test_size=0.2, random_state=42)\n",
    "\n",
    "# Step 3: Initialize the model\n",
    "model = LogisticRegression()\n",
    "\n",
    "# Step 4: Train the model\n",
    "model.fit(X_train, y_train)\n",
    "\n",
    "# Step 5: Make predictions\n",
    "y_pred = model.predict(X_test)\n",
    "\n",
    "# Step 6: Evaluate the model\n",
    "print(\"Accuracy:\", accuracy_score(y_test, y_pred))\n",
    "print(\"Classification Report:\\n\", classification_report(y_test, y_pred))\n"
   ]
  },
  {
   "cell_type": "code",
   "execution_count": 126,
   "metadata": {
    "id": "vEI0Koxxn4KF"
   },
   "outputs": [],
   "source": [
    "submission_df = pd.DataFrame(y_test, columns=['Status_C', 'Status_CL', 'Status_D'])\n",
    "submission_df['id'] = test['id']\n",
    "submission_df.to_csv('submission.csv', index=False)"
   ]
  },
  {
   "cell_type": "code",
   "execution_count": 128,
   "metadata": {
    "colab": {
     "base_uri": "https://localhost:8080/",
     "height": 206
    },
    "id": "_n5go4w5k94Y",
    "outputId": "de9cfc83-9f0e-4bac-a8bb-c69f8748e4d9"
   },
   "outputs": [
    {
     "data": {
      "text/html": [
       "<div>\n",
       "<style scoped>\n",
       "    .dataframe tbody tr th:only-of-type {\n",
       "        vertical-align: middle;\n",
       "    }\n",
       "\n",
       "    .dataframe tbody tr th {\n",
       "        vertical-align: top;\n",
       "    }\n",
       "\n",
       "    .dataframe thead th {\n",
       "        text-align: right;\n",
       "    }\n",
       "</style>\n",
       "<table border=\"1\" class=\"dataframe\">\n",
       "  <thead>\n",
       "    <tr style=\"text-align: right;\">\n",
       "      <th></th>\n",
       "      <th>Status_C</th>\n",
       "      <th>Status_CL</th>\n",
       "      <th>Status_D</th>\n",
       "      <th>id</th>\n",
       "    </tr>\n",
       "  </thead>\n",
       "  <tbody>\n",
       "    <tr>\n",
       "      <th>0</th>\n",
       "      <td>NaN</td>\n",
       "      <td>NaN</td>\n",
       "      <td>NaN</td>\n",
       "      <td>15000</td>\n",
       "    </tr>\n",
       "    <tr>\n",
       "      <th>1</th>\n",
       "      <td>NaN</td>\n",
       "      <td>NaN</td>\n",
       "      <td>NaN</td>\n",
       "      <td>15001</td>\n",
       "    </tr>\n",
       "    <tr>\n",
       "      <th>2</th>\n",
       "      <td>NaN</td>\n",
       "      <td>NaN</td>\n",
       "      <td>NaN</td>\n",
       "      <td>15002</td>\n",
       "    </tr>\n",
       "    <tr>\n",
       "      <th>3</th>\n",
       "      <td>NaN</td>\n",
       "      <td>NaN</td>\n",
       "      <td>NaN</td>\n",
       "      <td>15003</td>\n",
       "    </tr>\n",
       "    <tr>\n",
       "      <th>4</th>\n",
       "      <td>NaN</td>\n",
       "      <td>NaN</td>\n",
       "      <td>NaN</td>\n",
       "      <td>15004</td>\n",
       "    </tr>\n",
       "  </tbody>\n",
       "</table>\n",
       "</div>"
      ],
      "text/plain": [
       "  Status_C Status_CL Status_D     id\n",
       "0      NaN       NaN      NaN  15000\n",
       "1      NaN       NaN      NaN  15001\n",
       "2      NaN       NaN      NaN  15002\n",
       "3      NaN       NaN      NaN  15003\n",
       "4      NaN       NaN      NaN  15004"
      ]
     },
     "execution_count": 128,
     "metadata": {},
     "output_type": "execute_result"
    }
   ],
   "source": [
    "submission_df.head()"
   ]
  }
 ],
 "metadata": {
  "colab": {
   "provenance": []
  },
  "kernelspec": {
   "display_name": "Python 3 (ipykernel)",
   "language": "python",
   "name": "python3"
  },
  "language_info": {
   "codemirror_mode": {
    "name": "ipython",
    "version": 3
   },
   "file_extension": ".py",
   "mimetype": "text/x-python",
   "name": "python",
   "nbconvert_exporter": "python",
   "pygments_lexer": "ipython3",
   "version": "3.12.4"
  }
 },
 "nbformat": 4,
 "nbformat_minor": 4
}
